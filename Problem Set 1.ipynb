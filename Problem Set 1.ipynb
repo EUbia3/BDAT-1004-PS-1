{
 "cells": [
  {
   "cell_type": "markdown",
   "id": "0192b77b",
   "metadata": {},
   "source": [
    "# QUESTION 1"
   ]
  },
  {
   "cell_type": "code",
   "execution_count": 1,
   "id": "6a64c095",
   "metadata": {},
   "outputs": [
    {
     "ename": "SyntaxError",
     "evalue": "invalid syntax (838958266.py, line 1)",
     "output_type": "error",
     "traceback": [
      "\u001b[1;36m  Cell \u001b[1;32mIn[1], line 1\u001b[1;36m\u001b[0m\n\u001b[1;33m    5 is an integer\u001b[0m\n\u001b[1;37m            ^\u001b[0m\n\u001b[1;31mSyntaxError\u001b[0m\u001b[1;31m:\u001b[0m invalid syntax\n"
     ]
    }
   ],
   "source": [
    "5 is an integer\n",
    "5.0 is a float data\n",
    "5>1 is a boolean value(true or false) \n",
    "5 * 2 is a string '5' * 2 is a string multiplication operation \n",
    "'5' + '2' is a string concatenation operation \n",
    "5 / 2 is a float data \n",
    "5 % 2 is an integer \n",
    "{5,2,1} is a data type \n",
    "5 == 3 is a boolean value \n",
    "Pi(the number) is a float type"
   ]
  },
  {
   "cell_type": "code",
   "execution_count": 2,
   "id": "9483a29d",
   "metadata": {},
   "outputs": [
    {
     "name": "stdout",
     "output_type": "stream",
     "text": [
      "5 is an integer: True\n",
      "5.0 is a float data: True\n",
      "5 > 1 is a boolean value: True\n",
      "5 * 2 is a string: False\n",
      "'5' * 2 is a string multiplication operation: 55\n",
      "'5' + '2' is a string concatenation operation: 52\n",
      "5 / 2 is a float data: True\n",
      "5 % 2 is an integer: True\n",
      "{5, 2, 1} is a data type: True\n",
      "5 == 3 is a boolean value: False\n",
      "Pi (the number) is a float type: True\n"
     ]
    }
   ],
   "source": [
    "# 5 is an integer\n",
    "value_1 = 5\n",
    "is_integer = isinstance(value_1, int)\n",
    "print(\"5 is an integer:\", is_integer)\n",
    "\n",
    "# 5.0 is a float data\n",
    "value_2 = 5.0\n",
    "is_float = isinstance(value_2, float)\n",
    "print(\"5.0 is a float data:\", is_float)\n",
    "\n",
    "# 5 > 1 is a boolean value (true or false)\n",
    "result_1 = 5 > 1\n",
    "print(\"5 > 1 is a boolean value:\", result_1)\n",
    "\n",
    "# 5 * 2 is a string\n",
    "result_2 = 5 * 2\n",
    "print(\"5 * 2 is a string:\", isinstance(result_2, str))\n",
    "\n",
    "# '5' * 2 is a string multiplication operation\n",
    "result_3 = '5' * 2\n",
    "print(\"'5' * 2 is a string multiplication operation:\", result_3)\n",
    "\n",
    "# '5' + '2' is a string concatenation operation\n",
    "result_4 = '5' + '2'\n",
    "print(\"'5' + '2' is a string concatenation operation:\", result_4)\n",
    "\n",
    "# 5 / 2 is a float data\n",
    "result_5 = 5 / 2\n",
    "print(\"5 / 2 is a float data:\", isinstance(result_5, float))\n",
    "\n",
    "# 5 % 2 is an integer\n",
    "result_6 = 5 % 2\n",
    "print(\"5 % 2 is an integer:\", isinstance(result_6, int))\n",
    "\n",
    "# {5,2,1} is a data type\n",
    "result_7 = {5, 2, 1}\n",
    "print(\"{5, 2, 1} is a data type:\", isinstance(result_7, (set, list, tuple, dict)))\n",
    "\n",
    "# 5 == 3 is a boolean value\n",
    "result_8 = 5 == 3\n",
    "print(\"5 == 3 is a boolean value:\", result_8)\n",
    "\n",
    "# Pi (the number) is a float type\n",
    "import math\n",
    "pi_value = math.pi\n",
    "print(\"Pi (the number) is a float type:\", isinstance(pi_value, float))"
   ]
  },
  {
   "cell_type": "markdown",
   "id": "61625f2b",
   "metadata": {},
   "source": [
    "# Question 2"
   ]
  },
  {
   "cell_type": "code",
   "execution_count": 3,
   "id": "490121e2",
   "metadata": {},
   "outputs": [
    {
     "name": "stdout",
     "output_type": "stream",
     "text": [
      "34\n"
     ]
    }
   ],
   "source": [
    "word = 'supercalifragilisticexpialidocious'\n",
    "num_letters = len(word)\n",
    "print(num_letters)"
   ]
  },
  {
   "cell_type": "code",
   "execution_count": 4,
   "id": "31f0ba7c",
   "metadata": {},
   "outputs": [
    {
     "name": "stdout",
     "output_type": "stream",
     "text": [
      "True\n"
     ]
    }
   ],
   "source": [
    "word = 'Supercalifragilisticexpialidocious'\n",
    "substring = 'ice'\n",
    "result = substring in word\n",
    "print(result)"
   ]
  },
  {
   "cell_type": "code",
   "execution_count": 5,
   "id": "76f841e6",
   "metadata": {},
   "outputs": [
    {
     "name": "stdout",
     "output_type": "stream",
     "text": [
      "Supercalifragilisticexpialidocious\n"
     ]
    }
   ],
   "source": [
    "words = ['Supercalifragilisticexpialidocious', 'Honorificabilitudinitatibus', 'Bababadalgharaghtakamminarronnkonn']\n",
    "longest_word=max(words,key=len)\n",
    "print(longest_word)"
   ]
  },
  {
   "cell_type": "code",
   "execution_count": 6,
   "id": "58434a50",
   "metadata": {},
   "outputs": [
    {
     "name": "stdout",
     "output_type": "stream",
     "text": [
      "First: Bartok\n",
      "Last: Buxtehude\n"
     ]
    }
   ],
   "source": [
    "composers = ['Berlioz', 'Borodin', 'Brian', 'Bartok', 'Bellini', 'Buxtehude']\n",
    "sorted_composers = sorted(composers)\n",
    "print(\"First:\",sorted_composers[0])\n",
    "print(\"Last:\",sorted_composers[-1])"
   ]
  },
  {
   "cell_type": "markdown",
   "id": "ea58cfde",
   "metadata": {},
   "source": [
    "# Question 3"
   ]
  },
  {
   "cell_type": "code",
   "execution_count": 7,
   "id": "68c21e8e",
   "metadata": {},
   "outputs": [
    {
     "name": "stdout",
     "output_type": "stream",
     "text": [
      "1.7320508075688772\n"
     ]
    }
   ],
   "source": [
    "def triangleArea(a, b, c):\n",
    "    s = (a + b + c) / 2\n",
    "    return (s * (s - a) * (s - b) * (s - c))**0.5\n",
    "print(triangleArea(2, 2, 2))"
   ]
  },
  {
   "cell_type": "code",
   "execution_count": 17,
   "id": "9e3d7a21",
   "metadata": {},
   "outputs": [
    {
     "name": "stdout",
     "output_type": "stream",
     "text": [
      "Area of triangle with sides 2, 2, 2 is: 1.7320508075688772\n"
     ]
    }
   ],
   "source": [
    "import math\n",
    "\n",
    "def triangleArea(a, b, c):\n",
    "    p = a + b + c\n",
    "    s = p / 2\n",
    "    area = math.sqrt(s * (s - a) * (s - b) * (s - c))\n",
    "    print(\"Area of triangle with sides {}, {}, {} is: {}\".format(a, b, c, area))\n",
    "\n",
    "triangleArea(2, 2, 2)"
   ]
  },
  {
   "cell_type": "markdown",
   "id": "6bb9873a",
   "metadata": {},
   "source": [
    "# Question 6"
   ]
  },
  {
   "cell_type": "code",
   "execution_count": 5,
   "id": "0f280878",
   "metadata": {},
   "outputs": [
    {
     "name": "stdout",
     "output_type": "stream",
     "text": [
      "pig-Latin of 'happy' is\n",
      "appyhay \n",
      "---------------------------\n",
      "pig-Latin of 'enter' is\n",
      "enterway \n"
     ]
    }
   ],
   "source": [
    "def pig(originalWord):\n",
    "    a = originalWord.lower()\n",
    "    word = a.split()\n",
    "    vowelLetters = (\"a\", \"e\", \"i\", \"o\", \"u\")\n",
    "    if a[0] in vowelLetters:\n",
    "        for originalWord in word:\n",
    "            print(originalWord + \"way\", end = \" \")\n",
    "            \n",
    "    else:\n",
    "        for originalWord in word:\n",
    "            print(originalWord[1:] + originalWord[0] + \"ay\", end = \" \")\n",
    "    print()\n",
    "    \n",
    "print(\"pig-Latin of 'happy' is\")\n",
    "pig(\"happy\")\n",
    "print(\"---------------------------\")\n",
    "print(\"pig-Latin of 'enter' is\")\n",
    "pig(\"Enter\")"
   ]
  },
  {
   "cell_type": "markdown",
   "id": "3ec80a1b",
   "metadata": {},
   "source": [
    "# Question 7"
   ]
  },
  {
   "cell_type": "code",
   "execution_count": 10,
   "id": "bd544dfa",
   "metadata": {},
   "outputs": [
    {
     "ename": "FileNotFoundError",
     "evalue": "[Errno 2] No such file or directory: 'bloodtype.txt'",
     "output_type": "error",
     "traceback": [
      "\u001b[1;31m---------------------------------------------------------------------------\u001b[0m",
      "\u001b[1;31mFileNotFoundError\u001b[0m                         Traceback (most recent call last)",
      "Cell \u001b[1;32mIn[10], line 17\u001b[0m\n\u001b[0;32m     14\u001b[0m     \u001b[38;5;28mprint\u001b[39m(\u001b[38;5;124mf\u001b[39m\u001b[38;5;124m\"\u001b[39m\u001b[38;5;124mThere are \u001b[39m\u001b[38;5;132;01m{\u001b[39;00mblood_counts[\u001b[38;5;124m'\u001b[39m\u001b[38;5;124mOO\u001b[39m\u001b[38;5;124m'\u001b[39m]\u001b[38;5;132;01m}\u001b[39;00m\u001b[38;5;124m patients of blood type OO.\u001b[39m\u001b[38;5;124m\"\u001b[39m)\n\u001b[0;32m     16\u001b[0m \u001b[38;5;66;03m# Call the function with the file name\u001b[39;00m\n\u001b[1;32m---> 17\u001b[0m \u001b[43mbldcount\u001b[49m\u001b[43m(\u001b[49m\u001b[38;5;124;43m'\u001b[39;49m\u001b[38;5;124;43mbloodtype.txt\u001b[39;49m\u001b[38;5;124;43m'\u001b[39;49m\u001b[43m)\u001b[49m\n",
      "Cell \u001b[1;32mIn[10], line 4\u001b[0m, in \u001b[0;36mbldcount\u001b[1;34m(filename)\u001b[0m\n\u001b[0;32m      1\u001b[0m \u001b[38;5;28;01mdef\u001b[39;00m \u001b[38;5;21mbldcount\u001b[39m(filename):\n\u001b[0;32m      2\u001b[0m     blood_counts \u001b[38;5;241m=\u001b[39m {\u001b[38;5;124m'\u001b[39m\u001b[38;5;124mA\u001b[39m\u001b[38;5;124m'\u001b[39m: \u001b[38;5;241m0\u001b[39m, \u001b[38;5;124m'\u001b[39m\u001b[38;5;124mB\u001b[39m\u001b[38;5;124m'\u001b[39m: \u001b[38;5;241m0\u001b[39m, \u001b[38;5;124m'\u001b[39m\u001b[38;5;124mAB\u001b[39m\u001b[38;5;124m'\u001b[39m: \u001b[38;5;241m0\u001b[39m, \u001b[38;5;124m'\u001b[39m\u001b[38;5;124mO\u001b[39m\u001b[38;5;124m'\u001b[39m: \u001b[38;5;241m0\u001b[39m, \u001b[38;5;124m'\u001b[39m\u001b[38;5;124mOO\u001b[39m\u001b[38;5;124m'\u001b[39m: \u001b[38;5;241m0\u001b[39m}\n\u001b[1;32m----> 4\u001b[0m     \u001b[38;5;28;01mwith\u001b[39;00m \u001b[38;5;28;43mopen\u001b[39;49m\u001b[43m(\u001b[49m\u001b[43mfilename\u001b[49m\u001b[43m)\u001b[49m \u001b[38;5;28;01mas\u001b[39;00m file:\n\u001b[0;32m      5\u001b[0m         \u001b[38;5;28;01mfor\u001b[39;00m line \u001b[38;5;129;01min\u001b[39;00m file:\n\u001b[0;32m      6\u001b[0m             blood_type \u001b[38;5;241m=\u001b[39m line\u001b[38;5;241m.\u001b[39mstrip()\n",
      "File \u001b[1;32m~\\anaconda3\\lib\\site-packages\\IPython\\core\\interactiveshell.py:284\u001b[0m, in \u001b[0;36m_modified_open\u001b[1;34m(file, *args, **kwargs)\u001b[0m\n\u001b[0;32m    277\u001b[0m \u001b[38;5;28;01mif\u001b[39;00m file \u001b[38;5;129;01min\u001b[39;00m {\u001b[38;5;241m0\u001b[39m, \u001b[38;5;241m1\u001b[39m, \u001b[38;5;241m2\u001b[39m}:\n\u001b[0;32m    278\u001b[0m     \u001b[38;5;28;01mraise\u001b[39;00m \u001b[38;5;167;01mValueError\u001b[39;00m(\n\u001b[0;32m    279\u001b[0m         \u001b[38;5;124mf\u001b[39m\u001b[38;5;124m\"\u001b[39m\u001b[38;5;124mIPython won\u001b[39m\u001b[38;5;124m'\u001b[39m\u001b[38;5;124mt let you open fd=\u001b[39m\u001b[38;5;132;01m{\u001b[39;00mfile\u001b[38;5;132;01m}\u001b[39;00m\u001b[38;5;124m by default \u001b[39m\u001b[38;5;124m\"\u001b[39m\n\u001b[0;32m    280\u001b[0m         \u001b[38;5;124m\"\u001b[39m\u001b[38;5;124mas it is likely to crash IPython. If you know what you are doing, \u001b[39m\u001b[38;5;124m\"\u001b[39m\n\u001b[0;32m    281\u001b[0m         \u001b[38;5;124m\"\u001b[39m\u001b[38;5;124myou can use builtins\u001b[39m\u001b[38;5;124m'\u001b[39m\u001b[38;5;124m open.\u001b[39m\u001b[38;5;124m\"\u001b[39m\n\u001b[0;32m    282\u001b[0m     )\n\u001b[1;32m--> 284\u001b[0m \u001b[38;5;28;01mreturn\u001b[39;00m io_open(file, \u001b[38;5;241m*\u001b[39margs, \u001b[38;5;241m*\u001b[39m\u001b[38;5;241m*\u001b[39mkwargs)\n",
      "\u001b[1;31mFileNotFoundError\u001b[0m: [Errno 2] No such file or directory: 'bloodtype.txt'"
     ]
    }
   ],
   "source": [
    "def bldcount(filename):\n",
    "    blood_counts = {'A': 0, 'B': 0, 'AB': 0, 'O': 0, 'OO': 0}\n",
    "\n",
    "    with open(filename) as file:\n",
    "        for line in file:\n",
    "            blood_type = line.strip()\n",
    "            blood_counts[blood_type] += 1\n",
    "\n",
    "    # Print the blood type counts\n",
    "    print(f\"There are {blood_counts['A']} patients of blood type A.\")\n",
    "    print(f\"There are {blood_counts['B']} patients of blood type B.\")\n",
    "    print(f\"There are {blood_counts['AB']} patients of blood type AB.\")\n",
    "    print(f\"There are {blood_counts['O']} patients of blood type O.\")\n",
    "    print(f\"There are {blood_counts['OO']} patients of blood type OO.\")\n",
    "\n",
    "# Call the function with the file name\n",
    "bldcount('bloodtype.txt')"
   ]
  },
  {
   "cell_type": "markdown",
   "id": "cb0c09b1",
   "metadata": {},
   "source": [
    "# Question 8"
   ]
  },
  {
   "cell_type": "code",
   "execution_count": null,
   "id": "251e6e20",
   "metadata": {},
   "outputs": [],
   "source": []
  },
  {
   "cell_type": "markdown",
   "id": "16069ac7",
   "metadata": {},
   "source": [
    "# Question 9"
   ]
  },
  {
   "cell_type": "code",
   "execution_count": 11,
   "id": "1721781d",
   "metadata": {},
   "outputs": [
    {
     "name": "stdout",
     "output_type": "stream",
     "text": [
      "unsupported operand type(s) for +: 'int' and 'str'\n"
     ]
    }
   ],
   "source": [
    "try:\n",
    "    print(6 + 'a')\n",
    "except Exception as error:\n",
    "    print(error)"
   ]
  },
  {
   "cell_type": "code",
   "execution_count": 12,
   "id": "22100ad3",
   "metadata": {},
   "outputs": [
    {
     "name": "stdout",
     "output_type": "stream",
     "text": [
      "list index out of range\n"
     ]
    }
   ],
   "source": [
    "try:\n",
    "    items = [0, 1, 2, 3, 4, 5, 6, 7, 8, 9]\n",
    "    print(items[12])\n",
    "except Exception as error:\n",
    "    print(error)"
   ]
  },
  {
   "cell_type": "code",
   "execution_count": 13,
   "id": "1a16ef90",
   "metadata": {},
   "outputs": [
    {
     "name": "stdout",
     "output_type": "stream",
     "text": [
      "math domain error\n"
     ]
    }
   ],
   "source": [
    "import math\n",
    "try:\n",
    "    print(math.sqrt(-1.0))\n",
    "except Exception as error:\n",
    "    print(error)"
   ]
  },
  {
   "cell_type": "code",
   "execution_count": 14,
   "id": "fdad8cf5",
   "metadata": {},
   "outputs": [
    {
     "name": "stdout",
     "output_type": "stream",
     "text": [
      "name 'x' is not defined\n"
     ]
    }
   ],
   "source": [
    "try:\n",
    "    print(x)\n",
    "except Exception as error:\n",
    "    print(error)"
   ]
  },
  {
   "cell_type": "code",
   "execution_count": 15,
   "id": "73ae202e",
   "metadata": {},
   "outputs": [
    {
     "name": "stdout",
     "output_type": "stream",
     "text": [
      "[Errno 2] No such file or directory: 'bloodtype2.txt'\n"
     ]
    }
   ],
   "source": [
    "try:\n",
    "    blood = open(\"bloodtype2.txt\")\n",
    "    blood.close()\n",
    "except Exception as error:\n",
    "    print(error)"
   ]
  },
  {
   "cell_type": "markdown",
   "id": "3475f969",
   "metadata": {},
   "source": [
    "# Question 10"
   ]
  },
  {
   "cell_type": "code",
   "execution_count": 16,
   "id": "c648fb37",
   "metadata": {},
   "outputs": [
    {
     "name": "stdout",
     "output_type": "stream",
     "text": [
      ">>> frequencies('The quick red fox got bored and went home.')\n",
      "[1, 1, 1, 3, 5, 1, 1, 2, 1, 0, 1, 0, 1, 2, 4, 0, 1, 2, 0, 2, 1, 0, 1, 1, 0, 0]\n",
      "\n",
      "\n",
      ">>> frequencies('apple')\n",
      "[1, 0, 0, 0, 1, 0, 0, 0, 0, 0, 0, 1, 0, 0, 0, 2, 0, 0, 0, 0, 0, 0, 0, 0, 0, 0]\n"
     ]
    }
   ],
   "source": [
    "def frequencies(input):\n",
    "    alphabet = \"abcdefghijklmnopqrstuvwxyz\"\n",
    "    number = []\n",
    "    \n",
    "    for letters in alphabet:\n",
    "        count = input.count(letters)\n",
    "        number.append(count)\n",
    "    print(number)\n",
    "    \n",
    "\n",
    "print(\">>> frequencies('The quick red fox got bored and went home.')\")\n",
    "frequencies(\"The quick red fox got bored and went home.\")\n",
    "print('\\n')\n",
    "print(\">>> frequencies('apple')\")\n",
    "frequencies(\"apple\")"
   ]
  },
  {
   "cell_type": "code",
   "execution_count": null,
   "id": "b7efeb41",
   "metadata": {},
   "outputs": [],
   "source": []
  }
 ],
 "metadata": {
  "kernelspec": {
   "display_name": "Python 3 (ipykernel)",
   "language": "python",
   "name": "python3"
  },
  "language_info": {
   "codemirror_mode": {
    "name": "ipython",
    "version": 3
   },
   "file_extension": ".py",
   "mimetype": "text/x-python",
   "name": "python",
   "nbconvert_exporter": "python",
   "pygments_lexer": "ipython3",
   "version": "3.9.16"
  }
 },
 "nbformat": 4,
 "nbformat_minor": 5
}
